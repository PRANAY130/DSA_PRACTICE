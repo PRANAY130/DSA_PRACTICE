{
 "cells": [
  {
   "cell_type": "code",
   "execution_count": null,
   "id": "c4de5702",
   "metadata": {},
   "outputs": [],
   "source": [
    "import pandas as pd\n",
    "from sklearn.cluster import KMeans\n",
    "import matplotlib.pyplot as plt\n",
    "\n",
    "# Step 1: Load the CSV\n",
    "data = pd.read_csv(\"D:\\\\iris.csv\")\n",
    "\n",
    "# Step 2: Select only numeric columns for clustering\n",
    "X = data[['sepal.length', 'sepal.width', 'petal.length', 'petal.width']]\n",
    "\n",
    "# Step 3: Create KMeans model\n",
    "kmeans = KMeans(n_clusters=3, random_state=42)\n",
    "kmeans.fit(X)\n",
    "\n",
    "# Step 4: Get cluster labels\n",
    "labels = kmeans.labels_\n",
    "\n",
    "# Step 5: Add cluster labels to the original data\n",
    "data['Cluster'] = labels\n",
    "\n",
    "# Step 6: Plot clusters\n",
    "plt.scatter(X['sepal.length'], X['sepal.width'], c=labels, cmap='viridis')\n",
    "plt.scatter(kmeans.cluster_centers_[:, 0], kmeans.cluster_centers_[:, 1], color='red', marker='X', s=200, label='Centers')\n",
    "plt.xlabel('Sepal Length')\n",
    "plt.ylabel('Sepal Width')\n",
    "plt.title('KMeans Clustering')\n",
    "plt.legend()\n",
    "plt.grid(True)\n",
    "plt.show()\n"
   ]
  }
 ],
 "metadata": {
  "kernelspec": {
   "display_name": ".venv",
   "language": "python",
   "name": "python3"
  },
  "language_info": {
   "name": "python",
   "version": "3.12.4"
  }
 },
 "nbformat": 4,
 "nbformat_minor": 5
}
