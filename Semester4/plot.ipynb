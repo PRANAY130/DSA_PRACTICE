{
 "cells": [
  {
   "cell_type": "code",
   "execution_count": null,
   "id": "2b306972",
   "metadata": {},
   "outputs": [],
   "source": [
    "import numpy as np\n",
    "import pandas as pd\n",
    "import matplotlib.pyplot as plt\n",
    "import seaborn as sb "
   ]
  },
  {
   "cell_type": "code",
   "execution_count": null,
   "id": "df3edee7",
   "metadata": {},
   "outputs": [],
   "source": [
    "iris = pd.read_csv(\"D:\\\\iris.csv\")\n",
    "print(iris.shape) \n",
    "print(iris.columns)\n",
    "print(iris['species'].value_counts()) \n",
    "print(iris.info())"
   ]
  },
  {
   "cell_type": "code",
   "execution_count": null,
   "id": "5cfeacce",
   "metadata": {},
   "outputs": [],
   "source": [
    "# First plot\n",
    "plt.plot(iris[\"species\"])\n",
    "plt.xlabel(\"No. of data points\")\n",
    "plt.show()\n",
    "# Second plot\n",
    "plt.hist(iris[\"species\"],color=\"green\")\n",
    "plt.show() "
   ]
  },
  {
   "cell_type": "code",
   "execution_count": null,
   "id": "4993943c",
   "metadata": {},
   "outputs": [],
   "source": [
    "print(iris.describe())"
   ]
  },
  {
   "cell_type": "code",
   "execution_count": null,
   "id": "09a2753c",
   "metadata": {},
   "outputs": [],
   "source": [
    "sb.set_style('whitegrid')\n",
    "sb.scatterplot(data=iris, x='sepal_length', y='sepal_width', hue='species')\n",
    "plt.plot() "
   ]
  },
  {
   "cell_type": "code",
   "execution_count": null,
   "id": "f34356ec",
   "metadata": {},
   "outputs": [],
   "source": [
    "sb.set_style('whitegrid')\n",
    "sb.pairplot(iris,hue='species',size=3)\n",
    "plt.show() "
   ]
  },
  {
   "cell_type": "code",
   "execution_count": 23,
   "id": "69578f9d",
   "metadata": {},
   "outputs": [],
   "source": [
    "iris_setosa = iris.loc[iris['variety']=='Setosa']\n",
    "iris_versicolor = iris.loc[iris['variety']=='Versicolor']\n",
    "iris_virginica = iris.loc[iris['variety']=='Virginica'] "
   ]
  },
  {
   "cell_type": "code",
   "execution_count": 25,
   "id": "480652de",
   "metadata": {},
   "outputs": [
    {
     "name": "stdout",
     "output_type": "stream",
     "text": [
      "Means\n",
      "setosa 1.4620000000000002\n",
      "versicolor 4.26\n",
      "virginica 5.5520000000000005\n",
      "standard-daviation\n",
      "setosa : 0.17191858538273283\n",
      "versicolor : 0.4651881339845203\n",
      "virginica : 0.546347874526844\n",
      "median\n",
      "setosa : 1.5\n",
      "versicolor : 4.35\n",
      "virginica : 5.55\n"
     ]
    }
   ],
   "source": [
    "# Means of the petal length\n",
    "print(\"Means\")\n",
    "print(\"setosa\",np.mean(iris_setosa[\"petal.length\"]))\n",
    "print(\"versicolor\",np.mean(iris_versicolor[\"petal.length\"]))\n",
    "print(\"virginica\",np.mean(iris_virginica[\"petal.length\"]))\n",
    "# standard-daviation\n",
    "print(\"standard-daviation\")\n",
    "print(\"setosa :\",np.std(iris_setosa[\"petal.length\"]))\n",
    "print(\"versicolor :\",np.std(iris_versicolor[\"petal.length\"]))\n",
    "print(\"virginica :\",np.std(iris_virginica[\"petal.length\"]))\n",
    "# median\n",
    "print(\"median\")\n",
    "print(\"setosa :\",np.median(iris_setosa[\"petal.length\"]))\n",
    "print(\"versicolor :\",np.median (iris_versicolor[\"petal.length\"]))\n",
    "print(\"virginica :\",np.median (iris_virginica[\"petal.length\"])) "
   ]
  }
 ],
 "metadata": {
  "kernelspec": {
   "display_name": ".venv",
   "language": "python",
   "name": "python3"
  },
  "language_info": {
   "codemirror_mode": {
    "name": "ipython",
    "version": 3
   },
   "file_extension": ".py",
   "mimetype": "text/x-python",
   "name": "python",
   "nbconvert_exporter": "python",
   "pygments_lexer": "ipython3",
   "version": "3.12.4"
  }
 },
 "nbformat": 4,
 "nbformat_minor": 5
}
