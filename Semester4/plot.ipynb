{
 "cells": [
  {
   "cell_type": "code",
   "execution_count": null,
   "id": "2b306972",
   "metadata": {},
   "outputs": [],
   "source": [
    "import numpy as np\n",
    "import pandas as pd\n",
    "import matplotlib.pyplot as plt\n",
    "import seaborn as sb "
   ]
  },
  {
   "cell_type": "code",
   "execution_count": null,
   "id": "df3edee7",
   "metadata": {},
   "outputs": [],
   "source": [
    "iris = pd.read_csv(\"D:\\\\iris.csv\")\n",
    "print(iris.shape) \n",
    "print(iris.columns)\n",
    "print(iris['species'].value_counts()) \n",
    "print(iris.info())"
   ]
  },
  {
   "cell_type": "code",
   "execution_count": null,
   "id": "5cfeacce",
   "metadata": {},
   "outputs": [],
   "source": [
    "# First plot\n",
    "plt.plot(iris[\"species\"])\n",
    "plt.xlabel(\"No. of data points\")\n",
    "plt.show()\n",
    "# Second plot\n",
    "plt.hist(iris[\"species\"],color=\"green\")\n",
    "plt.show() "
   ]
  },
  {
   "cell_type": "code",
   "execution_count": null,
   "id": "4993943c",
   "metadata": {},
   "outputs": [],
   "source": [
    "print(iris.describe())"
   ]
  },
  {
   "cell_type": "code",
   "execution_count": null,
   "id": "09a2753c",
   "metadata": {},
   "outputs": [],
   "source": [
    "sb.set_style('whitegrid')\n",
    "sb.scatterplot(data=iris, x='sepal_length', y='sepal_width', hue='species')\n",
    "plt.plot() "
   ]
  },
  {
   "cell_type": "code",
   "execution_count": null,
   "id": "f34356ec",
   "metadata": {},
   "outputs": [],
   "source": [
    "sb.set_style('whitegrid')\n",
    "sb.pairplot(iris,hue='species',size=3)\n",
    "plt.show() "
   ]
  },
  {
   "cell_type": "code",
   "execution_count": null,
   "id": "480652de",
   "metadata": {},
   "outputs": [],
   "source": [
    "# Means of the petal length\n",
    "print(\"Means\")\n",
    "print(\"setosa\",np.mean(iris_setosa[\"petal_length\"]))\n",
    "print(\"versicolor\",np.mean(iris_versicolor[\"petal_length\"]))\n",
    "print(\"virginica\",np.mean(iris_virginica[\"petal_length\"]))\n",
    "# standard-daviation\n",
    "print(\"standard-daviation\")\n",
    "print(\"setosa :\",np.std(iris_setosa[\"petal_length\"]))\n",
    "print(\"versicolor :\",np.std(iris_versicolor[\"petal_length\"]))\n",
    "print(\"virginica :\",np.std(iris_virginica[\"petal_length\"]))\n",
    "# median\n",
    "print(\"median\")\n",
    "print(\"setosa :\",np.median(iris_setosa[\"petal_length\"]))\n",
    "print(\"versicolor :\",np.median (iris_versicolor[\"petal_length\"]))\n",
    "print(\"virginica :\",np.median (iris_virginica[\"petal_length\"])) "
   ]
  }
 ],
 "metadata": {
  "kernelspec": {
   "display_name": ".venv",
   "language": "python",
   "name": "python3"
  },
  "language_info": {
   "codemirror_mode": {
    "name": "ipython",
    "version": 3
   },
   "file_extension": ".py",
   "mimetype": "text/x-python",
   "name": "python",
   "nbconvert_exporter": "python",
   "pygments_lexer": "ipython3",
   "version": "3.12.4"
  }
 },
 "nbformat": 4,
 "nbformat_minor": 5
}
