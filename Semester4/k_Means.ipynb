{
 "cells": [
  {
   "cell_type": "code",
   "execution_count": null,
   "id": "4709f314",
   "metadata": {},
   "outputs": [],
   "source": [
    "from sklearn.datasets import load_iris\n",
    "from sklearn.cluster import KMeans\n",
    "import matplotlib.pyplot as plt "
   ]
  },
  {
   "cell_type": "code",
   "execution_count": null,
   "id": "ab997db4",
   "metadata": {},
   "outputs": [],
   "source": [
    "iris = load_iris()\n",
    "data = iris.data\n",
    "print(data)\n",
    "target = iris.target\n",
    "print(iris.target)"
   ]
  },
  {
   "cell_type": "code",
   "execution_count": null,
   "id": "be08e179",
   "metadata": {},
   "outputs": [],
   "source": [
    "kmeans_model = KMeans(n_clusters=3, random_state=1).fit(data)\n",
    "labels = kmeans_model.labels_\n",
    "clusters_sklearn = kmeans_model.cluster_centers_\n",
    "print(labels)\n",
    "print(kmeans_model.cluster_centers_) "
   ]
  },
  {
   "cell_type": "code",
   "execution_count": null,
   "id": "99d63d4a",
   "metadata": {},
   "outputs": [],
   "source": [
    "def plot_clusters_sklearn(data, labels, clusters):\n",
    " # Plot data points, choosing first two features for visualization\n",
    " plt.scatter(data[:, 0], data[:, 1], c=labels, cmap='viridis', label='Data points')\n",
    " # Plot cluster centers, also focusing on the same two features\n",
    " plt.scatter(clusters[:, 0], clusters[:, 1], s=200, color='red', marker='X', label='Centers')\n",
    " plt.title('Visualizing Clusters with Matplotlib using Iris Dataset')\n",
    " plt.xlabel('Sepal Length (cm)')\n",
    " plt.ylabel('Sepal Width (cm)')\n",
    " plt.legend()\n",
    " plt.grid(True)\n",
    " plt.show()"
   ]
  },
  {
   "cell_type": "code",
   "execution_count": null,
   "id": "5843d57c",
   "metadata": {},
   "outputs": [],
   "source": [
    "plot_clusters_sklearn(data, labels, clusters_sklearn) "
   ]
  }
 ],
 "metadata": {
  "kernelspec": {
   "display_name": ".venv",
   "language": "python",
   "name": "python3"
  },
  "language_info": {
   "codemirror_mode": {
    "name": "ipython",
    "version": 3
   },
   "file_extension": ".py",
   "mimetype": "text/x-python",
   "name": "python",
   "nbconvert_exporter": "python",
   "pygments_lexer": "ipython3",
   "version": "3.12.4"
  }
 },
 "nbformat": 4,
 "nbformat_minor": 5
}
