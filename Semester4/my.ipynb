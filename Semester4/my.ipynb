{
 "cells": [
  {
   "cell_type": "code",
   "execution_count": null,
   "id": "d2183226",
   "metadata": {},
   "outputs": [],
   "source": [
    "from sklearn.datasets import load_iris\n",
    "from sklearn.cluster import KMeans\n",
    "import matplotlib.pyplot as plt"
   ]
  },
  {
   "cell_type": "code",
   "execution_count": null,
   "id": "f8bc00a0",
   "metadata": {},
   "outputs": [],
   "source": [
    "iris=load_iris()\n",
    "data=iris.data\n",
    "print(data)\n",
    "target=iris.target\n",
    "print(target)"
   ]
  },
  {
   "cell_type": "code",
   "execution_count": null,
   "id": "da804831",
   "metadata": {},
   "outputs": [],
   "source": [
    "kmeans_model=KMeans(n_clusters=3,random_state=1).fit(data)\n",
    "labels=kmeans_model.labels_\n",
    "clusters_kmeans=kmeans_model.cluster_centers_\n"
   ]
  },
  {
   "cell_type": "code",
   "execution_count": null,
   "id": "220d2d8c",
   "metadata": {},
   "outputs": [],
   "source": [
    "def plotting(data,labels,clusters):\n",
    "    plt.scatter(data[:,0],data[:,1],c=labels,cmap=\"viridis\",label=\"Data Points\")\n",
    "    plt.scatter(clusters[:,0],clusters[:,1],s=200,marker=\"X\",color=\"red\",label=\"Cluster points\")\n",
    "    plt.xlabel(\"Sepal Width\")\n",
    "    plt.ylabel(\"Seapl Length\")\n",
    "    plt.grid(True)\n",
    "    plt.legend()\n",
    "    plt.show()\n",
    "    \n",
    "plotting(data,labels,clusters_kmeans)\n",
    "    "
   ]
  }
 ],
 "metadata": {
  "kernelspec": {
   "display_name": ".venv",
   "language": "python",
   "name": "python3"
  },
  "language_info": {
   "codemirror_mode": {
    "name": "ipython",
    "version": 3
   },
   "file_extension": ".py",
   "mimetype": "text/x-python",
   "name": "python",
   "nbconvert_exporter": "python",
   "pygments_lexer": "ipython3",
   "version": "3.12.4"
  }
 },
 "nbformat": 4,
 "nbformat_minor": 5
}
