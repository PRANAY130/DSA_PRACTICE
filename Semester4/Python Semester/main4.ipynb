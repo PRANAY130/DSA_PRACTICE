{
 "cells": [
  {
   "cell_type": "code",
   "execution_count": 1,
   "id": "30979057",
   "metadata": {},
   "outputs": [],
   "source": [
    "from sklearn.datasets import fetch_california_housing\n",
    "import pandas as pd"
   ]
  },
  {
   "cell_type": "code",
   "execution_count": 5,
   "id": "759e1526",
   "metadata": {},
   "outputs": [
    {
     "name": "stdout",
     "output_type": "stream",
     "text": [
      "       MedInc  HouseAge  AveRooms  ...  AveOccup  Latitude  Longitude\n",
      "0      8.3252      41.0  6.984127  ...  2.555556     37.88    -122.23\n",
      "1      8.3014      21.0  6.238137  ...  2.109842     37.86    -122.22\n",
      "2      7.2574      52.0  8.288136  ...  2.802260     37.85    -122.24\n",
      "3      5.6431      52.0  5.817352  ...  2.547945     37.85    -122.25\n",
      "4      3.8462      52.0  6.281853  ...  2.181467     37.85    -122.25\n",
      "...       ...       ...       ...  ...       ...       ...        ...\n",
      "20635  1.5603      25.0  5.045455  ...  2.560606     39.48    -121.09\n",
      "20636  2.5568      18.0  6.114035  ...  3.122807     39.49    -121.21\n",
      "20637  1.7000      17.0  5.205543  ...  2.325635     39.43    -121.22\n",
      "20638  1.8672      18.0  5.329513  ...  2.123209     39.43    -121.32\n",
      "20639  2.3886      16.0  5.254717  ...  2.616981     39.37    -121.24\n",
      "\n",
      "[20640 rows x 8 columns]\n"
     ]
    }
   ],
   "source": [
    "data1=fetch_california_housing(as_frame=True)\n",
    "housing=data1.data\n",
    "data=data1.frame\n",
    "print(housing)"
   ]
  },
  {
   "cell_type": "code",
   "execution_count": 8,
   "id": "048d5761",
   "metadata": {},
   "outputs": [
    {
     "name": "stdout",
     "output_type": "stream",
     "text": [
      "       MedInc  HouseAge  AveRooms  ...  Latitude  Longitude  MedHouseVal\n",
      "0      8.3252      41.0  6.984127  ...     37.88    -122.23        4.526\n",
      "1      8.3014      21.0  6.238137  ...     37.86    -122.22        3.585\n",
      "2      7.2574      52.0  8.288136  ...     37.85    -122.24        3.521\n",
      "3      5.6431      52.0  5.817352  ...     37.85    -122.25        3.413\n",
      "4      3.8462      52.0  6.281853  ...     37.85    -122.25        3.422\n",
      "...       ...       ...       ...  ...       ...        ...          ...\n",
      "20635  1.5603      25.0  5.045455  ...     39.48    -121.09        0.781\n",
      "20636  2.5568      18.0  6.114035  ...     39.49    -121.21        0.771\n",
      "20637  1.7000      17.0  5.205543  ...     39.43    -121.22        0.923\n",
      "20638  1.8672      18.0  5.329513  ...     39.43    -121.32        0.847\n",
      "20639  2.3886      16.0  5.254717  ...     39.37    -121.24        0.894\n",
      "\n",
      "[20640 rows x 9 columns]\n",
      "   MedInc  HouseAge  AveRooms  ...  Latitude  Longitude  MedHouseVal\n",
      "0  8.3252      41.0  6.984127  ...     37.88    -122.23        4.526\n",
      "1  8.3014      21.0  6.238137  ...     37.86    -122.22        3.585\n",
      "2  7.2574      52.0  8.288136  ...     37.85    -122.24        3.521\n",
      "3  5.6431      52.0  5.817352  ...     37.85    -122.25        3.413\n",
      "4  3.8462      52.0  6.281853  ...     37.85    -122.25        3.422\n",
      "\n",
      "[5 rows x 9 columns]\n"
     ]
    }
   ],
   "source": [
    "print(data)\n",
    "print(data.head())"
   ]
  },
  {
   "cell_type": "code",
   "execution_count": null,
   "id": "c52494d0",
   "metadata": {},
   "outputs": [],
   "source": []
  }
 ],
 "metadata": {
  "kernelspec": {
   "display_name": ".venv",
   "language": "python",
   "name": "python3"
  },
  "language_info": {
   "codemirror_mode": {
    "name": "ipython",
    "version": 3
   },
   "file_extension": ".py",
   "mimetype": "text/x-python",
   "name": "python",
   "nbconvert_exporter": "python",
   "pygments_lexer": "ipython3",
   "version": "3.12.4"
  }
 },
 "nbformat": 4,
 "nbformat_minor": 5
}
