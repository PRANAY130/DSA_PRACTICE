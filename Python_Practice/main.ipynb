{
 "cells": [
  {
   "cell_type": "markdown",
   "metadata": {},
   "source": [
    "FIBONACCI SERIES"
   ]
  },
  {
   "cell_type": "code",
   "execution_count": 3,
   "metadata": {},
   "outputs": [
    {
     "name": "stdout",
     "output_type": "stream",
     "text": [
      "0\n",
      "1\n",
      "1\n",
      "2\n",
      "3\n",
      "5\n",
      "8\n"
     ]
    }
   ],
   "source": [
    "def fibonacci(n):\n",
    "    if n<=1:\n",
    "        return n\n",
    "    return fibonacci(n-1)+fibonacci(n-2)\n",
    "n=int(input(\"Enter the vallue of n\"))\n",
    "for i in range(n):\n",
    "    fibo=fibonacci(i)\n",
    "    print(fibo)"
   ]
  },
  {
   "cell_type": "markdown",
   "metadata": {},
   "source": [
    "FACTORIAL"
   ]
  },
  {
   "cell_type": "code",
   "execution_count": 4,
   "metadata": {},
   "outputs": [
    {
     "name": "stdout",
     "output_type": "stream",
     "text": [
      "120\n"
     ]
    }
   ],
   "source": [
    "def factorial (n):\n",
    "    if n<=1:\n",
    "        return 1\n",
    "    return n*factorial(n-1)\n",
    "a=int(input(\"Enter the value whose factorial is required:\"))\n",
    "facto=factorial(a)\n",
    "print(facto)"
   ]
  },
  {
   "cell_type": "code",
   "execution_count": 7,
   "metadata": {},
   "outputs": [
    {
     "name": "stdout",
     "output_type": "stream",
     "text": [
      "3\n"
     ]
    }
   ],
   "source": [
    "def gcd(a,b):\n",
    "    if b%a==0:\n",
    "        return a\n",
    "    return gcd(b%a,a)\n",
    "n1=15\n",
    "n2=24\n",
    "j=gcd(n1,n2)\n",
    "print(j)"
   ]
  },
  {
   "cell_type": "markdown",
   "metadata": {},
   "source": [
    "PRIME NUMBERS"
   ]
  },
  {
   "cell_type": "code",
   "execution_count": 10,
   "metadata": {},
   "outputs": [
    {
     "name": "stdout",
     "output_type": "stream",
     "text": [
      "The prime numbers between 1 and 20\n",
      "1\n",
      "2\n",
      "3\n",
      "5\n",
      "7\n",
      "11\n",
      "13\n",
      "17\n",
      "19\n"
     ]
    }
   ],
   "source": [
    "n1=int(input(\"Enter the upper limit\"))\n",
    "n2=int(input(\"Enter the lower limit\"))\n",
    "print(f\"The prime numbers between {n2} and {n1}\")\n",
    "for i in range(n2,n1):\n",
    "    count=0\n",
    "    for j in range(1,i+1):\n",
    "        if(i%j==0):\n",
    "            count=count+1\n",
    "    if(count<=2):\n",
    "        print(i)"
   ]
  },
  {
   "cell_type": "markdown",
   "metadata": {},
   "source": [
    "LEBENIZ SERIES"
   ]
  },
  {
   "cell_type": "code",
   "execution_count": 11,
   "metadata": {},
   "outputs": [
    {
     "name": "stdout",
     "output_type": "stream",
     "text": [
      "0.7853984133971936\n",
      "3.1415936535887745\n"
     ]
    }
   ],
   "source": [
    "n=1000000\n",
    "series=0\n",
    "for i in range(n+1):\n",
    "    factor=((-1)**i)/((2*i)+1)\n",
    "    series=series+factor\n",
    "print(series)\n",
    "pie=series*4\n",
    "print(pie)"
   ]
  },
  {
   "cell_type": "markdown",
   "metadata": {},
   "source": [
    "EXPONENTIAL SERIES"
   ]
  },
  {
   "cell_type": "code",
   "execution_count": 14,
   "metadata": {},
   "outputs": [
    {
     "name": "stdout",
     "output_type": "stream",
     "text": [
      "0.36787944117144245\n"
     ]
    }
   ],
   "source": [
    "def factorial1(n):\n",
    "    if n<=1:\n",
    "        return 1\n",
    "    return n*factorial1(n-1)\n",
    "\n",
    "r=1000\n",
    "series=0\n",
    "for i in range(r+1):\n",
    "    factor1=((-1)**i)/factorial1(i)\n",
    "    series=series+factor1\n",
    "exponent=series\n",
    "print(exponent)"
   ]
  },
  {
   "cell_type": "markdown",
   "metadata": {},
   "source": [
    "2D RANDOM WALK"
   ]
  },
  {
   "cell_type": "code",
   "execution_count": 19,
   "metadata": {},
   "outputs": [
    {
     "name": "stdout",
     "output_type": "stream",
     "text": [
      "Move up\n",
      "0 1\n",
      "Move down\n",
      "0 0\n",
      "Move up\n",
      "0 1\n",
      "Move up\n",
      "0 2\n",
      "Move left\n",
      "-1 2\n",
      "Move down\n",
      "-1 1\n",
      "Move up\n",
      "-1 2\n",
      "Move down\n",
      "-1 1\n",
      "Move right\n",
      "0 1\n",
      "Move up\n",
      "0 2\n",
      "Move left\n",
      "-1 2\n",
      "Move down\n",
      "-1 1\n",
      "Move up\n",
      "-1 2\n",
      "Move up\n",
      "-1 3\n",
      "Move left\n",
      "-2 3\n",
      "Move left\n",
      "-3 3\n",
      "Move up\n",
      "-3 4\n",
      "Move left\n",
      "-4 4\n",
      "Move up\n",
      "-4 5\n",
      "Move down\n",
      "-4 4\n",
      "Move right\n",
      "-3 4\n",
      "Move up\n",
      "-3 5\n",
      "Move left\n",
      "-4 5\n",
      "Move left\n",
      "-5 5\n",
      "Move right\n",
      "-4 5\n",
      "Move right\n",
      "-3 5\n",
      "Move up\n",
      "-3 6\n",
      "Move up\n",
      "-3 7\n",
      "Move down\n",
      "-3 6\n",
      "Move left\n",
      "-4 6\n",
      "Move up\n",
      "-4 7\n",
      "Move up\n",
      "-4 8\n",
      "Move right\n",
      "-3 8\n",
      "Move right\n",
      "-2 8\n",
      "Move up\n",
      "-2 9\n",
      "Move left\n",
      "-3 9\n",
      "Move up\n",
      "-3 10\n",
      "37\n"
     ]
    }
   ],
   "source": [
    "import random\n",
    "x=0\n",
    "y=0\n",
    "steps=0\n",
    "\n",
    "while(abs(x)<10 and abs(y)<10):\n",
    "    move=random.randint(1,4)\n",
    "    if(move==1):\n",
    "        x=x+1\n",
    "        print(\"Move right\")\n",
    "    elif(move==2):\n",
    "        y=y+1\n",
    "        print(\"Move up\")\n",
    "    elif(move==3):\n",
    "        x=x-1\n",
    "        print(\"Move left\")\n",
    "    elif(move==4):\n",
    "        y=y-1\n",
    "        print(\"Move down\")\n",
    "    print(x,y)\n",
    "    steps+=1\n",
    "print(steps)\n"
   ]
  },
  {
   "cell_type": "code",
   "execution_count": null,
   "metadata": {},
   "outputs": [],
   "source": []
  },
  {
   "cell_type": "code",
   "execution_count": null,
   "metadata": {},
   "outputs": [],
   "source": []
  },
  {
   "cell_type": "code",
   "execution_count": null,
   "metadata": {},
   "outputs": [],
   "source": []
  }
 ],
 "metadata": {
  "kernelspec": {
   "display_name": "Python 3",
   "language": "python",
   "name": "python3"
  },
  "language_info": {
   "codemirror_mode": {
    "name": "ipython",
    "version": 3
   },
   "file_extension": ".py",
   "mimetype": "text/x-python",
   "name": "python",
   "nbconvert_exporter": "python",
   "pygments_lexer": "ipython3",
   "version": "3.12.4"
  }
 },
 "nbformat": 4,
 "nbformat_minor": 2
}
