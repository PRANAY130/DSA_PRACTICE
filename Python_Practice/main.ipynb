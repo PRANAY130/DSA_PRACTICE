{
 "cells": [
  {
   "cell_type": "markdown",
   "metadata": {},
   "source": [
    "FIBONACCI SERIES"
   ]
  },
  {
   "cell_type": "code",
   "execution_count": 3,
   "metadata": {},
   "outputs": [
    {
     "name": "stdout",
     "output_type": "stream",
     "text": [
      "0\n",
      "1\n",
      "1\n",
      "2\n",
      "3\n",
      "5\n",
      "8\n"
     ]
    }
   ],
   "source": [
    "def fibonacci(n):\n",
    "    if n<=1:\n",
    "        return n\n",
    "    return fibonacci(n-1)+fibonacci(n-2)\n",
    "n=int(input(\"Enter the vallue of n\"))\n",
    "for i in range(n):\n",
    "    fibo=fibonacci(i)\n",
    "    print(fibo)"
   ]
  },
  {
   "cell_type": "markdown",
   "metadata": {},
   "source": [
    "FACTORIAL"
   ]
  },
  {
   "cell_type": "code",
   "execution_count": 4,
   "metadata": {},
   "outputs": [
    {
     "name": "stdout",
     "output_type": "stream",
     "text": [
      "120\n"
     ]
    }
   ],
   "source": [
    "def factorial (n):\n",
    "    if n<=1:\n",
    "        return 1\n",
    "    return n*factorial(n-1)\n",
    "a=int(input(\"Enter the value whose factorial is required:\"))\n",
    "facto=factorial(a)\n",
    "print(facto)"
   ]
  },
  {
   "cell_type": "markdown",
   "metadata": {},
   "source": [
    "GCD"
   ]
  },
  {
   "cell_type": "code",
   "execution_count": 7,
   "metadata": {},
   "outputs": [
    {
     "name": "stdout",
     "output_type": "stream",
     "text": [
      "3\n"
     ]
    }
   ],
   "source": [
    "def gcd(a,b):\n",
    "    if b%a==0:\n",
    "        return a\n",
    "    return gcd(b%a,a)\n",
    "n1=15\n",
    "n2=24\n",
    "j=gcd(n1,n2)\n",
    "print(j)"
   ]
  },
  {
   "cell_type": "markdown",
   "metadata": {},
   "source": [
    "PRIME NUMBERS"
   ]
  },
  {
   "cell_type": "code",
   "execution_count": 10,
   "metadata": {},
   "outputs": [
    {
     "name": "stdout",
     "output_type": "stream",
     "text": [
      "The prime numbers between 1 and 20\n",
      "1\n",
      "2\n",
      "3\n",
      "5\n",
      "7\n",
      "11\n",
      "13\n",
      "17\n",
      "19\n"
     ]
    }
   ],
   "source": [
    "n1=int(input(\"Enter the upper limit\"))\n",
    "n2=int(input(\"Enter the lower limit\"))\n",
    "print(f\"The prime numbers between {n2} and {n1}\")\n",
    "for i in range(n2,n1):\n",
    "    count=0\n",
    "    for j in range(1,i+1):\n",
    "        if(i%j==0):\n",
    "            count=count+1\n",
    "    if(count<=2):\n",
    "        print(i)"
   ]
  },
  {
   "cell_type": "markdown",
   "metadata": {},
   "source": [
    "LEBENIZ SERIES"
   ]
  },
  {
   "cell_type": "code",
   "execution_count": 11,
   "metadata": {},
   "outputs": [
    {
     "name": "stdout",
     "output_type": "stream",
     "text": [
      "0.7853984133971936\n",
      "3.1415936535887745\n"
     ]
    }
   ],
   "source": [
    "n=1000000\n",
    "series=0\n",
    "for i in range(n+1):\n",
    "    factor=((-1)**i)/((2*i)+1)\n",
    "    series=series+factor\n",
    "print(series)\n",
    "pie=series*4\n",
    "print(pie)"
   ]
  },
  {
   "cell_type": "markdown",
   "metadata": {},
   "source": [
    "EXPONENTIAL SERIES"
   ]
  },
  {
   "cell_type": "code",
   "execution_count": 10,
   "metadata": {},
   "outputs": [
    {
     "name": "stdout",
     "output_type": "stream",
     "text": [
      "0.36787944117144245\n"
     ]
    }
   ],
   "source": [
    "def factorial1(n):\n",
    "    if n<=1:\n",
    "        return 1\n",
    "    return n*factorial1(n-1)\n",
    "\n",
    "r=2000\n",
    "series=0\n",
    "for i in range(r+1):\n",
    "    factor1=((-1)**i)/factorial1(i)\n",
    "    series=series+factor1\n",
    "exponent=series\n",
    "print(exponent)"
   ]
  },
  {
   "cell_type": "markdown",
   "metadata": {},
   "source": [
    "2D RANDOM WALK"
   ]
  },
  {
   "cell_type": "code",
   "execution_count": 12,
   "metadata": {},
   "outputs": [
    {
     "name": "stdout",
     "output_type": "stream",
     "text": [
      "Move right\n",
      "1 0\n",
      "1\n",
      "Move down\n",
      "1 -1\n",
      "2\n",
      "Move up\n",
      "1 0\n",
      "3\n",
      "Move down\n",
      "1 -1\n",
      "4\n",
      "Move left\n",
      "0 -1\n",
      "5\n",
      "Move right\n",
      "1 -1\n",
      "6\n",
      "Move down\n",
      "1 -2\n",
      "7\n",
      "Move down\n",
      "1 -3\n",
      "8\n",
      "Move up\n",
      "1 -2\n",
      "9\n",
      "Move down\n",
      "1 -3\n",
      "10\n",
      "Move left\n",
      "0 -3\n",
      "11\n",
      "Move up\n",
      "0 -2\n",
      "12\n",
      "Move left\n",
      "-1 -2\n",
      "13\n",
      "Move left\n",
      "-2 -2\n",
      "14\n",
      "Move down\n",
      "-2 -3\n",
      "15\n",
      "Move up\n",
      "-2 -2\n",
      "16\n",
      "Move left\n",
      "-3 -2\n",
      "17\n",
      "Move up\n",
      "-3 -1\n",
      "18\n",
      "Move down\n",
      "-3 -2\n",
      "19\n",
      "Move right\n",
      "-2 -2\n",
      "20\n",
      "Move down\n",
      "-2 -3\n",
      "21\n",
      "Move down\n",
      "-2 -4\n",
      "22\n",
      "Move down\n",
      "-2 -5\n",
      "23\n",
      "Move left\n",
      "-3 -5\n",
      "24\n",
      "Move down\n",
      "-3 -6\n",
      "25\n",
      "Move down\n",
      "-3 -7\n",
      "26\n",
      "Move right\n",
      "-2 -7\n",
      "27\n",
      "Move up\n",
      "-2 -6\n",
      "28\n",
      "Move down\n",
      "-2 -7\n",
      "29\n",
      "Move left\n",
      "-3 -7\n",
      "30\n",
      "Move right\n",
      "-2 -7\n",
      "31\n",
      "Move down\n",
      "-2 -8\n",
      "32\n",
      "Move down\n",
      "-2 -9\n",
      "33\n",
      "Move left\n",
      "-3 -9\n",
      "34\n",
      "Move up\n",
      "-3 -8\n",
      "35\n",
      "Move down\n",
      "-3 -9\n",
      "36\n",
      "Move left\n",
      "-4 -9\n",
      "37\n",
      "Move left\n",
      "-5 -9\n",
      "38\n",
      "Move up\n",
      "-5 -8\n",
      "39\n",
      "Move up\n",
      "-5 -7\n",
      "40\n",
      "Move left\n",
      "-6 -7\n",
      "41\n",
      "Move right\n",
      "-5 -7\n",
      "42\n",
      "Move right\n",
      "-4 -7\n",
      "43\n",
      "Move right\n",
      "-3 -7\n",
      "44\n",
      "Move right\n",
      "-2 -7\n",
      "45\n",
      "Move right\n",
      "-1 -7\n",
      "46\n",
      "Move right\n",
      "0 -7\n",
      "47\n",
      "Move up\n",
      "0 -6\n",
      "48\n",
      "Move right\n",
      "1 -6\n",
      "49\n",
      "Move down\n",
      "1 -7\n",
      "50\n",
      "Move left\n",
      "0 -7\n",
      "51\n",
      "Move right\n",
      "1 -7\n",
      "52\n",
      "Move left\n",
      "0 -7\n",
      "53\n",
      "Move up\n",
      "0 -6\n",
      "54\n",
      "Move left\n",
      "-1 -6\n",
      "55\n",
      "Move right\n",
      "0 -6\n",
      "56\n",
      "Move left\n",
      "-1 -6\n",
      "57\n",
      "Move up\n",
      "-1 -5\n",
      "58\n",
      "Move up\n",
      "-1 -4\n",
      "59\n",
      "Move left\n",
      "-2 -4\n",
      "60\n",
      "Move down\n",
      "-2 -5\n",
      "61\n",
      "Move up\n",
      "-2 -4\n",
      "62\n",
      "Move right\n",
      "-1 -4\n",
      "63\n",
      "Move down\n",
      "-1 -5\n",
      "64\n",
      "Move up\n",
      "-1 -4\n",
      "65\n",
      "Move down\n",
      "-1 -5\n",
      "66\n",
      "Move down\n",
      "-1 -6\n",
      "67\n",
      "Move down\n",
      "-1 -7\n",
      "68\n",
      "Move down\n",
      "-1 -8\n",
      "69\n",
      "Move down\n",
      "-1 -9\n",
      "70\n",
      "Move up\n",
      "-1 -8\n",
      "71\n",
      "Move right\n",
      "0 -8\n",
      "72\n",
      "Move up\n",
      "0 -7\n",
      "73\n",
      "Move up\n",
      "0 -6\n",
      "74\n",
      "Move up\n",
      "0 -5\n",
      "75\n",
      "Move left\n",
      "-1 -5\n",
      "76\n",
      "Move right\n",
      "0 -5\n",
      "77\n",
      "Move right\n",
      "1 -5\n",
      "78\n",
      "Move up\n",
      "1 -4\n",
      "79\n",
      "Move left\n",
      "0 -4\n",
      "80\n",
      "Move up\n",
      "0 -3\n",
      "81\n",
      "Move right\n",
      "1 -3\n",
      "82\n",
      "Move up\n",
      "1 -2\n",
      "83\n",
      "Move left\n",
      "0 -2\n",
      "84\n",
      "Move right\n",
      "1 -2\n",
      "85\n",
      "Move up\n",
      "1 -1\n",
      "86\n",
      "Move left\n",
      "0 -1\n",
      "87\n",
      "Move right\n",
      "1 -1\n",
      "88\n",
      "Move right\n",
      "2 -1\n",
      "89\n",
      "Move down\n",
      "2 -2\n",
      "90\n",
      "Move right\n",
      "3 -2\n",
      "91\n",
      "Move right\n",
      "4 -2\n",
      "92\n",
      "Move right\n",
      "5 -2\n",
      "93\n",
      "Move up\n",
      "5 -1\n",
      "94\n",
      "Move up\n",
      "5 0\n",
      "95\n",
      "Move right\n",
      "6 0\n",
      "96\n",
      "Move down\n",
      "6 -1\n",
      "97\n",
      "Move up\n",
      "6 0\n",
      "98\n",
      "Move right\n",
      "7 0\n",
      "99\n",
      "Move up\n",
      "7 1\n",
      "100\n",
      "Move right\n",
      "8 1\n",
      "101\n",
      "Move right\n",
      "9 1\n",
      "102\n",
      "Move up\n",
      "9 2\n",
      "103\n",
      "Move right\n",
      "10 2\n",
      "104\n"
     ]
    }
   ],
   "source": [
    "import random\n",
    "x=0\n",
    "y=0\n",
    "steps=0\n",
    "\n",
    "while(abs(x)<10 and abs(y)<10):\n",
    "    with open(\"file1.txt\",\"a\") as file:\n",
    "        move=random.randint(1,4)\n",
    "        if(move==1):\n",
    "            x=x+1\n",
    "            print(\"Move right\")\n",
    "            file.write(\"Move right\\n\")\n",
    "        elif(move==2):\n",
    "            y=y+1\n",
    "            print(\"Move up\")\n",
    "            file.write(\"Move up\\n\")\n",
    "        elif(move==3):\n",
    "            x=x-1\n",
    "            print(\"Move left\")\n",
    "            file.write(\"Move left\\n\")\n",
    "        elif(move==4):\n",
    "            y=y-1\n",
    "            print(\"Move down\")\n",
    "            file.write(\"Move down\\n\")\n",
    "        print(x,y)\n",
    "        file.write(f\"x={x} y={y}\")\n",
    "        steps+=1\n",
    "    print(steps)\n"
   ]
  },
  {
   "cell_type": "markdown",
   "metadata": {},
   "source": [
    "NUMBER GUESSING GAME"
   ]
  },
  {
   "cell_type": "code",
   "execution_count": 20,
   "metadata": {},
   "outputs": [
    {
     "name": "stdout",
     "output_type": "stream",
     "text": [
      "Correct answer\n",
      "The number of guesses is 5\n"
     ]
    }
   ],
   "source": [
    "import random\n",
    "n1=int(input(\"Enter the lower limit\"))\n",
    "n2=int(input(\"Enter the upper limit\"))\n",
    "\n",
    "correct=random.randint(n1,n2)\n",
    "flag=1\n",
    "guesses=0\n",
    "while flag==1:\n",
    "    choice=int(input(\"Enter your choice\"))\n",
    "    if(choice==correct):\n",
    "        print(\"Correct answer\")\n",
    "        flag=2\n",
    "    guesses+=1\n",
    "print(f\"The number of guesses is {guesses}\")\n",
    "    "
   ]
  },
  {
   "cell_type": "markdown",
   "metadata": {},
   "source": [
    "PRISON BREAK"
   ]
  },
  {
   "cell_type": "code",
   "execution_count": 23,
   "metadata": {},
   "outputs": [
    {
     "name": "stdout",
     "output_type": "stream",
     "text": [
      "Prisoner number 1 escapes\n",
      "Prisoner number 3 escapes\n",
      "Prisoner number 5 escapes\n",
      "Prisoner number 6 escapes\n",
      "Total number of prisoner escaped = 4\n"
     ]
    }
   ],
   "source": [
    "prison=[1,1,0,0,1,0]\n",
    "prisoner=0\n",
    "for i in range(len(prison)):\n",
    "    if(prison[0]==0 and i==0):\n",
    "        print(\"No one can be released\")\n",
    "        break\n",
    "    if(prison[i]==1):\n",
    "        prisoner+=1\n",
    "        print(f\"Prisoner number {i+1} escapes\")\n",
    "        for j in range(len(prison)):\n",
    "            prison[j]=abs(prison[j]-1)\n",
    "print(f\"Total number of prisoner escaped = {prisoner}\")"
   ]
  },
  {
   "cell_type": "markdown",
   "metadata": {},
   "source": [
    "ROCK PAPER SCISSORS"
   ]
  },
  {
   "cell_type": "code",
   "execution_count": 3,
   "metadata": {},
   "outputs": [
    {
     "name": "stdout",
     "output_type": "stream",
     "text": [
      "['rock', 'paper', 'scissors']\n",
      "['rock', 'scissors']\n",
      "choice=paper\n",
      "scissors\n",
      "Computer wins\n",
      "['rock', 'paper', 'scissors']\n",
      "['paper', 'scissors']\n",
      "choice=rock\n",
      "scissors\n",
      "you win\n",
      "['rock', 'paper', 'scissors']\n",
      "['paper', 'scissors']\n",
      "choice=rock\n",
      "paper\n",
      "Computer wins\n"
     ]
    }
   ],
   "source": [
    "import random\n",
    "for i in range (3):\n",
    "    with open(\"file.txt\",\"w\") as file:\n",
    "        choose=input(\"Write your option in lowercase\")\n",
    "        list2=[\"rock\",\"paper\",\"scissors\"]\n",
    "        print(list2)\n",
    "        list2.remove(choose)\n",
    "        print(list2)\n",
    "        print(f\"choice={choose}\")\n",
    "        computer=random.choice(list2)\n",
    "        print(computer)\n",
    "        file.write(f\"{computer} {choose}\\n\")\n",
    "        if(computer==\"rock\" and choose==\"paper\"):\n",
    "            print(\"You win\")\n",
    "            file.write(\"You Win\")\n",
    "        elif(computer==\"rock\" and choose==\"scissors\"):\n",
    "            print(\"Computer wins\")\n",
    "            file.write(\"Computer Win\")\n",
    "        elif(computer==\"paper\" and choose==\"rock\"):\n",
    "            print(\"Computer wins\")\n",
    "            file.write(\"Computer Win\")\n",
    "        elif (computer==\"paper\" and choose==\"scissors\"):\n",
    "            print(\"You win\")\n",
    "            file.write(\"You Win\")\n",
    "        elif (computer==\"scissors\" and choose==\"rock\"):\n",
    "            print(\"you win\")\n",
    "            file.write(\"You Win\")\n",
    "        elif (computer==\"scissors\" and choose==\"paper\"):\n",
    "            print(\"Computer wins\")\n",
    "            file.write(\"Computer Win\")\n",
    "        file.write(\"\\n\")\n"
   ]
  },
  {
   "cell_type": "markdown",
   "metadata": {},
   "source": [
    "COWS AND BULLS GAME"
   ]
  },
  {
   "cell_type": "code",
   "execution_count": 11,
   "metadata": {},
   "outputs": [
    {
     "name": "stdout",
     "output_type": "stream",
     "text": [
      "5181\n",
      "Bulls=2 Cows=4\n",
      "Bulls=3 Cows=5\n",
      "You win in 3 tries \n"
     ]
    }
   ],
   "source": [
    "import random\n",
    "secret=random.randint(1000,9999)\n",
    "secret=str(secret)\n",
    "print(secret)\n",
    "max=10\n",
    "for i in range(max):\n",
    "    bulls=0\n",
    "    cows=0\n",
    "    choice=input(\"Enter your 4 digit number\")\n",
    "    if(choice==secret):\n",
    "        print(f\"You win in {i+1} tries \")\n",
    "        break\n",
    "    for i in range(len(secret)):\n",
    "        if(secret[i]==choice[i]):\n",
    "            bulls+=1\n",
    "    for j in range(len(secret)):\n",
    "        for k in range(len(secret)):\n",
    "            if(secret[j]==choice[k]):\n",
    "                cows+=1\n",
    "    print(f\"Bulls={bulls} Cows={cows}\")\n",
    "    bulls=str(bulls)\n",
    "    cows=str(cows)\n",
    "    with open(\"file.txt\",\"a\") as file:\n",
    "        file.write(f\"cows={cows} bulls={bulls}\\n\")\n",
    "if i==9:\n",
    "    print(\"You lose\")\n",
    "    \n",
    "        "
   ]
  },
  {
   "cell_type": "markdown",
   "metadata": {},
   "source": [
    "WORD COMPLETION"
   ]
  },
  {
   "cell_type": "code",
   "execution_count": null,
   "metadata": {},
   "outputs": [],
   "source": [
    "b=\"-a-e\"\n",
    "answers=[\"game\",\"fame\",\"lame\"]\n"
   ]
  },
  {
   "cell_type": "code",
   "execution_count": null,
   "metadata": {},
   "outputs": [
    {
     "name": "stdout",
     "output_type": "stream",
     "text": [
      "Solve this -a-e\n",
      "-a-e\n",
      "-a-e\n",
      "Try again\n",
      "-a-e\n",
      "-a-e\n",
      "Try again\n",
      "-a-e\n",
      "-a-e\n",
      "Try again\n",
      "-a-e\n",
      "-a-e\n",
      "Try again\n",
      "-a-e\n"
     ]
    }
   ],
   "source": [
    "def word_completion(question,answers):\n",
    "    print(f\"Solve this {question}\")\n",
    "    b=question.count(\"-\")\n",
    "    flag=1\n",
    "    while(flag==1):\n",
    "        question1=question\n",
    "        question1=str(question1)\n",
    "        for i in range(b):\n",
    "            a=input(\"Enter\")\n",
    "            question1.replace(\"-\",a)\n",
    "            print(question1)\n",
    "        if question1 in answers:\n",
    "            print(\"Correct\")\n",
    "            break\n",
    "        else:\n",
    "            print(\"Try again\")\n",
    "ques=\"-a-e\"   \n",
    "answer=[\"game\",\"fame\",\"name\",\"lame\"]\n",
    "word_completion(ques,answer)\n",
    "            \n",
    "        \n",
    "    "
   ]
  },
  {
   "cell_type": "markdown",
   "metadata": {},
   "source": [
    "MONTE CARLO"
   ]
  },
  {
   "cell_type": "code",
   "execution_count": null,
   "metadata": {},
   "outputs": [
    {
     "name": "stdout",
     "output_type": "stream",
     "text": [
      "3.14150232\n"
     ]
    }
   ],
   "source": [
    "import random\n",
    "trails=10000\n",
    "hits=0\n",
    "for i in range (trails):\n",
    "    x=2*random.random()-1\n",
    "    y=2*random.random()-1\n",
    "    \n",
    "    if (x**2+y**2<1):\n",
    "        hits+=1\n",
    "pie=4*hits/trails\n",
    "print(pie)"
   ]
  },
  {
   "cell_type": "code",
   "execution_count": null,
   "metadata": {},
   "outputs": [],
   "source": []
  }
 ],
 "metadata": {
  "kernelspec": {
   "display_name": "Python 3",
   "language": "python",
   "name": "python3"
  },
  "language_info": {
   "codemirror_mode": {
    "name": "ipython",
    "version": 3
   },
   "file_extension": ".py",
   "mimetype": "text/x-python",
   "name": "python",
   "nbconvert_exporter": "python",
   "pygments_lexer": "ipython3",
   "version": "3.12.4"
  }
 },
 "nbformat": 4,
 "nbformat_minor": 2
}
